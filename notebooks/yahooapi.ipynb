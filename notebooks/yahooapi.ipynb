{
 "cells": [
  {
   "cell_type": "markdown",
   "metadata": {},
   "source": [
    "### This is called a Markdown Cell it allows you to add comments into your notebook - [Cheat Sheet](https://www.markdownguide.org/cheat-sheet/)"
   ]
  },
  {
   "cell_type": "markdown",
   "metadata": {},
   "source": [
    "### Connecting to the Yahoo API & Retrieving Game, League, Team, and Player Information\n",
    "\n",
    "# Year league was played, owner name, team name, team key, rank, playoff seed, total wins, total losses, total ties, total points scored, total points against, number of moves and number of trades\n",
    "\n",
    "Follow these resources:\n",
    "* [Connecting to Yahoo API](https://www.billyboyballin.com/2019/08/18/yahoo-fantasy-api/)\n",
    "* https://github.com/uberfastman/yfpy\n",
    "* https://www.shafquatarefeen.com/python-yahoo-api/"
   ]
  },
  {
   "cell_type": "markdown",
   "metadata": {},
   "source": [
    "#### Your first cell you typically want to put your parameters.  Python is an object-oriented programming language, meaning, you can name different thinkgs like data tables (called dataframes), arrays, vectors, integers, floats, etc. "
   ]
  },
  {
   "cell_type": "code",
   "execution_count": null,
   "metadata": {},
   "outputs": [],
   "source": [
    "# from platform import python_version\n",
    "# print(python_version())\n",
    "\n",
    "# import os\n",
    "# path = os.getcwd()\n",
    "# print(path)"
   ]
  },
  {
   "cell_type": "code",
   "execution_count": null,
   "metadata": {},
   "outputs": [],
   "source": [
    "# !pip3 install msgpack\n",
    "# !pip3 install argparse==1.1\n",
    "# !pip3 install yfpy==3.1.1 #Don't use this\n",
    "# !pip3 install yahoo_oauth==0.1.9"
   ]
  },
  {
   "cell_type": "code",
   "execution_count": null,
   "metadata": {},
   "outputs": [
    {
     "name": "stderr",
     "output_type": "stream",
     "text": [
      "[2020-05-22 17:08:52,787 DEBUG] [yahoo_oauth.yahoo_oauth.__init__] Checking \n",
      "[2020-05-22 17:08:52,790 DEBUG] [yahoo_oauth.yahoo_oauth.handler] AUTHORISATION URL : https://api.login.yahoo.com/oauth2/request_auth?client_secret=67812ea0f657976e375ff423197fb03829f22982&redirect_uri=oob&response_type=code&client_id=dj0yJmk9TVJZOWFFTkt3T2N2JmQ9WVdrOVExTkJSMnBLTlRRbWNHbzlNQS0tJnM9Y29uc3VtZXJzZWNyZXQmc3Y9MCZ4PTA3\n"
     ]
    }
   ],
   "source": [
    "# API Error handling xoauth_yahoo_guid https://github.com/josuebrunel/yahoo-oauth/issues/54\n",
    "\n",
    "from yahoo_oauth import OAuth2\n",
    "oauth = OAuth2(None, None, from_file=r'C:\\Users\\bxf4905\\OneDrive - The Home Depot\\Desktop\\the-real-league\\notebooks\\oauth2.json')\n",
    "# if not oauth.token_is_valid():\n",
    "#     oauth.refresh_access_token()"
   ]
  },
  {
   "cell_type": "code",
   "execution_count": 5,
   "metadata": {},
   "outputs": [
    {
     "ename": "NameError",
     "evalue": "name 'oauth' is not defined",
     "output_type": "error",
     "traceback": [
      "\u001b[1;31m---------------------------------------------------------------------------\u001b[0m",
      "\u001b[1;31mNameError\u001b[0m                                 Traceback (most recent call last)",
      "\u001b[1;32m<ipython-input-5-ebcfab08dcc0>\u001b[0m in \u001b[0;36m<module>\u001b[1;34m()\u001b[0m\n\u001b[0;32m      1\u001b[0m \u001b[1;31m# Need to get Leagues keys since 2016, 17, 2019\u001b[0m\u001b[1;33m\u001b[0m\u001b[1;33m\u001b[0m\u001b[0m\n\u001b[0;32m      2\u001b[0m \u001b[0murl\u001b[0m \u001b[1;33m=\u001b[0m \u001b[1;34m\"https://fantasysports.yahooapis.com/fantasy/v2/leagues;league_keys= 371.l.18058, 399.l.29654/standings\"\u001b[0m\u001b[1;33m\u001b[0m\u001b[0m\n\u001b[1;32m----> 3\u001b[1;33m \u001b[0mr\u001b[0m \u001b[1;33m=\u001b[0m \u001b[0moauth\u001b[0m\u001b[1;33m.\u001b[0m\u001b[0msession\u001b[0m\u001b[1;33m.\u001b[0m\u001b[0mget\u001b[0m\u001b[1;33m(\u001b[0m\u001b[0murl\u001b[0m\u001b[1;33m)\u001b[0m\u001b[1;33m\u001b[0m\u001b[0m\n\u001b[0m\u001b[0;32m      4\u001b[0m \u001b[0mr\u001b[0m\u001b[1;33m.\u001b[0m\u001b[0mstatus_code\u001b[0m\u001b[1;33m\u001b[0m\u001b[0m\n",
      "\u001b[1;31mNameError\u001b[0m: name 'oauth' is not defined"
     ]
    }
   ],
   "source": [
    "# Need to get Leagues keys since 2016, 17, 2019\n",
    "\n",
    "url = \"https://fantasysports.yahooapis.com/fantasy/v2/leagues;league_keys= 371.l.18058, 399.l.29654/standings\"\n",
    "r = oauth.session.get(url)\n",
    "r.status_code"
   ]
  },
  {
   "cell_type": "code",
   "execution_count": null,
   "metadata": {},
   "outputs": [],
   "source": [
    "# Convert to string and remove namespace. Parse the string and return root element of Tree \n",
    "xmlstring = r.text\n",
    "xmlstring = re.sub(' xmlns=\"[^\"]+\"', '', xmlstring, count=1)\n",
    "root = ET.fromstring(xmlstring)\n",
    "\n",
    "# Initiate list\n",
    "list = []\n",
    "\n",
    "# For loop statement that will loop through appropriate elemental tags and return associated text content. Save that text content into dictionary and add dictionary to list.\n",
    "for team in root.findall('./leagues/league/standings/teams/team'):\n",
    "    team_key = team.find('team_key')\n",
    "    team_key = team_key.text\n",
    "    name = team.find('name')\n",
    "    name = name.text\n",
    "    number_of_moves = team.find('number_of_moves')\n",
    "    number_of_moves = number_of_moves.text\n",
    "    number_of_trades = team.find('number_of_trades')\n",
    "    number_of_trades = number_of_trades.text\n",
    " \n",
    "    for nickname in team.iter('nickname'):\n",
    "        nickname = nickname.text\n",
    "    for season in team.iter('season'):\n",
    "        season = season.text\n",
    "    for points_for in team.iter('points_for'):\n",
    "        points_for = points_for.text\n",
    "    for points_against in team.iter('points_against'):\n",
    "        points_against = points_against.text\n",
    "    for rank in team.iter('rank'):\n",
    "        rank = rank.text\n",
    "    for wins in team.iter('wins'):\n",
    "        wins = wins.text\n",
    "    for losses in team.iter('losses'):\n",
    "        losses = losses.text\n",
    "    for ties in team.iter('ties'):\n",
    "        ties = ties.text\n",
    "    for playoff_seed in team.iter('playoff_seed'):\n",
    "        playoff_seed = playoff_seed.text\n",
    "    \n",
    "    thisdict = dict(season=season, name=nickname, team_name=name, team_key=team_key, rank=rank, playoff_seed=playoff_seed, wins=wins, losses=losses, ties=ties, points_for=points_for, points_against=points_against, number_of_moves=number_of_moves, number_of_trades=number_of_trades)\n",
    "    list.append(thisdict)\n",
    "Initially the XML had a namespace that effected the naming of elements and attributes. To make life easier, it was removed. A for loop was then written that extracted all the specified information. We stored this information in a dictionary that was subsequently added it to a list. The list is then written into a csv file.\n",
    "\n",
    "# Generate headers for excel file.\n",
    "fields = ['season', 'name', 'team_name', 'team_key', 'rank', 'playoff_seed', 'wins', 'losses', 'ties', 'points_for', 'points_against', 'number_of_moves', 'number_of_trades']\n",
    "\n",
    "# Write contents of list into 'project.csv' saved in working directory. \n",
    "with open('project.csv', 'w') as csvfile:\n",
    "    writer = csv.DictWriter(csvfile, fieldnames = fields)\n",
    "    writer.writeheader()\n",
    "    writer.writerows(list) "
   ]
  }
 ],
 "metadata": {
  "kernelspec": {
   "display_name": "Python 3",
   "language": "python",
   "name": "python3"
  },
  "language_info": {
   "codemirror_mode": {
    "name": "ipython",
    "version": 3
   },
   "file_extension": ".py",
   "mimetype": "text/x-python",
   "name": "python",
   "nbconvert_exporter": "python",
   "pygments_lexer": "ipython3",
   "version": "3.7.0"
  }
 },
 "nbformat": 4,
 "nbformat_minor": 2
}
